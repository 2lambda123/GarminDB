{
 "cells": [
  {
   "cell_type": "markdown",
   "metadata": {},
   "source": [
    "# Activity"
   ]
  },
  {
   "cell_type": "code",
   "execution_count": null,
   "metadata": {},
   "outputs": [],
   "source": [
    "import fitfile\n",
    "from garmindb import ConfigManager\n",
    "from garmindb.garmindb import GarminDb, Attributes, ActivitiesDb, Activities, ActivityLaps, ActivityRecords\n",
    "\n",
    "activity_id = 7871721178\n",
    "print(f\"activity id: {activity_id}\")\n",
    "print()\n",
    "\n",
    "db_params_dict = ConfigManager.get_db_params()\n",
    "garmin_db = GarminDb(db_params_dict)\n",
    "garmin_act_db = ActivitiesDb(db_params_dict)\n",
    "measurement_system = Attributes.measurements_type(garmin_db)\n",
    "unit_strings = fitfile.units.unit_strings[measurement_system]\n",
    "distance_units = unit_strings[fitfile.units.UnitTypes.distance_long]\n",
    "altitude_units = unit_strings[fitfile.units.UnitTypes.altitude]\n",
    "temp_units = unit_strings[fitfile.units.UnitTypes.tempurature]\n",
    "\n",
    "activity = Activities.get(garmin_act_db, activity_id)\n",
    "\n",
    "print(f\"{activity.name} ({activity.sport} {activity.type})\")\n",
    "print(activity.description)\n",
    "print()\n",
    "print(f\"{activity.distance} {distance_units} in {activity.elapsed_time} ({activity.moving_time}) burned {activity.calories} calories at average tempature {activity.avg_temperature} degrees {temp_units}\")\n",
    "print(f\"heart rate: average {activity.avg_hr}   maximum {activity.max_hr}  respiration rate: average {activity.avg_rr}   maximum {activity.max_rr}\")\n",
    "print(f\"altitude: gained {activity.ascent} {altitude_units}  lost {activity.descent} {altitude_units}\")\n",
    "print()\n",
    "print(\"time in heart rate zones\")\n",
    "print(f\"1 ({activity.hrz_1_hr}+): {activity.hrz_1_time}\")\n",
    "print(f\"2 ({activity.hrz_2_hr}+): {activity.hrz_2_time}\")\n",
    "print(f\"3 ({activity.hrz_3_hr}+): {activity.hrz_3_time}\")\n",
    "print(f\"4 ({activity.hrz_4_hr}+): {activity.hrz_4_time}\")\n",
    "print(f\"5 ({activity.hrz_5_hr}+): {activity.hrz_5_time}\")\n",
    "print()\n",
    "print(f\"training effect {activity.training_effect}  anaerobic training_effect {activity.anaerobic_training_effect}\")\n",
    "print()\n",
    "print(f\"{activity.laps} laps\")\n",
    "laps = ActivityLaps.get_activity(garmin_act_db, activity_id)\n",
    "for lap in laps:\n",
    "    print(f\"{lap.lap}: {lap.distance} {distance_units} in {lap.elapsed_time} ({lap.moving_time}) burned {lap.calories} calories at average tempature {lap.avg_temperature} degrees {temp_units}\")"
   ]
  }
 ],
 "metadata": {
  "interpreter": {
   "hash": "d4f50e87ad7f9cd136d9d3dcf547b8236ee2585f92d0ab7c53dfb80e44e3fae9"
  },
  "kernelspec": {
   "display_name": "Python 3.9.5 64-bit ('.venv')",
   "name": "python3"
  },
  "language_info": {
   "codemirror_mode": {
    "name": "ipython",
    "version": 3
   },
   "file_extension": ".py",
   "mimetype": "text/x-python",
   "name": "python",
   "nbconvert_exporter": "python",
   "pygments_lexer": "ipython3",
   "version": "3.9.9"
  },
  "orig_nbformat": 4
 },
 "nbformat": 4,
 "nbformat_minor": 2
}
