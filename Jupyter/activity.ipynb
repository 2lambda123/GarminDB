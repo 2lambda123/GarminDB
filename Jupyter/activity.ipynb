{
 "cells": [
  {
   "cell_type": "markdown",
   "metadata": {},
   "source": [
    "# Enter an Activity Id and See a Summary of that Activity"
   ]
  },
  {
   "cell_type": "code",
   "execution_count": null,
   "metadata": {},
   "outputs": [],
   "source": [
    "from IPython.display import display, Markdown\n",
    "import snakemd\n",
    "\n",
    "import fitfile\n",
    "from garmindb import ConfigManager\n",
    "from garmindb.garmindb import GarminDb, Attributes, ActivitiesDb, Activities, ActivityLaps, ActivityRecords\n",
    "\n",
    "activity_id = input('Enter the id of the activity you would like to display')\n",
    "\n",
    "doc = snakemd.new_doc(\"activity\")\n",
    "\n",
    "db_params_dict = ConfigManager.get_db_params()\n",
    "garmin_db = GarminDb(db_params_dict)\n",
    "garmin_act_db = ActivitiesDb(db_params_dict)\n",
    "measurement_system = Attributes.measurements_type(garmin_db)\n",
    "unit_strings = fitfile.units.unit_strings[measurement_system]\n",
    "distance_units = unit_strings[fitfile.units.UnitTypes.distance_long]\n",
    "altitude_units = unit_strings[fitfile.units.UnitTypes.altitude]\n",
    "temp_units = unit_strings[fitfile.units.UnitTypes.tempurature]\n",
    "\n",
    "activity = Activities.get(garmin_act_db, activity_id)\n",
    "\n",
    "doc.add_header(activity.name)\n",
    "doc.add_paragraph(f'Id: {activity_id} Sport: {activity.sport} Activity type: {activity.type}')\n",
    "if activity.description:\n",
    "    doc.add_paragraph(activity.description)\n",
    "\n",
    "doc.add_header(\"Summary\", 3)\n",
    "doc.add_table([f'Distance ({distance_units})', \"Ellapsed Time\", \"Moving Time\", \"Calories\", f\"Average Tempature (degrees {temp_units})\"],\n",
    "              [[activity.distance, activity.elapsed_time, activity.moving_time, activity.calories, activity.avg_temperature]])\n",
    "\n",
    "doc.add_header(\"Laps\", 3)\n",
    "laps = ActivityLaps.get_activity(garmin_act_db, activity_id)\n",
    "lap_stats = []\n",
    "for lap in laps:\n",
    "    lap_stats.append([lap.lap, lap.distance, lap.elapsed_time, lap.moving_time, lap.calories, lap.avg_temperature])\n",
    "doc.add_table(['Lap', f'Distance ({distance_units})', \"Ellapsed Time\", \"Moving Time\", \"Calories\", f\"Average Tempature (degrees {temp_units})\"], lap_stats)\n",
    "\n",
    "doc.add_header(\"Altitude\", 3)\n",
    "doc.add_table([f'Gained ({altitude_units})', f'Lost ({altitude_units})'], [[activity.ascent, activity.descent]])\n",
    "\n",
    "doc.add_header(\"Heart Rate\", 3)\n",
    "doc.add_table(['Average', 'Maximum'], [[activity.avg_hr, activity.max_hr]])\n",
    "\n",
    "doc.add_header(\"Respiration Rate\", 3)\n",
    "doc.add_table(['Average', 'Maximum'], [[activity.avg_rr, activity.max_rr]])\n",
    "\n",
    "doc.add_header(\"Time In Heart Rate Zones\", 3)\n",
    "doc.add_table(\n",
    "    ['Zone', 'HR Threshold', \"Time\"],\n",
    "    [\n",
    "        [\"1\", activity.hrz_1_hr, activity.hrz_1_time],\n",
    "        [\"2\", activity.hrz_2_hr, activity.hrz_2_time],\n",
    "        [\"3\", activity.hrz_3_hr, activity.hrz_3_time],\n",
    "        [\"4\", activity.hrz_4_hr, activity.hrz_4_time],\n",
    "        [\"5\", activity.hrz_5_hr, activity.hrz_5_time],\n",
    "    ])\n",
    "\n",
    "doc.add_header(\"Training Effect\", 3)\n",
    "doc.add_table(\n",
    "    ['Type', 'Rating'],\n",
    "    [\n",
    "        [\"Aerobic\", activity.training_effect],\n",
    "        [\"Anaerobic\", activity.anaerobic_training_effect],\n",
    "    ])\n",
    "\n",
    "display(Markdown(str(doc)))"
   ]
  }
 ],
 "metadata": {
  "interpreter": {
   "hash": "d4f50e87ad7f9cd136d9d3dcf547b8236ee2585f92d0ab7c53dfb80e44e3fae9"
  },
  "kernelspec": {
   "display_name": "Python 3.9.5 64-bit ('.venv')",
   "name": "python3"
  },
  "language_info": {
   "codemirror_mode": {
    "name": "ipython",
    "version": 3
   },
   "file_extension": ".py",
   "mimetype": "text/x-python",
   "name": "python",
   "nbconvert_exporter": "python",
   "pygments_lexer": "ipython3",
   "version": "3.9.10"
  },
  "orig_nbformat": 4
 },
 "nbformat": 4,
 "nbformat_minor": 2
}
