{
 "cells": [
  {
   "cell_type": "markdown",
   "metadata": {},
   "source": [
    "# Activities"
   ]
  },
  {
   "cell_type": "code",
   "execution_count": null,
   "metadata": {},
   "outputs": [],
   "source": [
    "import fitfile\n",
    "from garmindb import ConfigManager\n",
    "from garmindb.garmindb import GarminDb, Attributes, ActivitiesDb, Activities, ActivityLaps, ActivityRecords\n",
    "from idbutils.list_and_dict import list_not_none\n",
    "\n",
    "\n",
    "db_params_dict = ConfigManager.get_db_params()\n",
    "garmin_db = GarminDb(db_params_dict)\n",
    "garmin_act_db = ActivitiesDb(db_params_dict)\n",
    "measurement_system = Attributes.measurements_type(garmin_db)\n",
    "unit_strings = fitfile.units.unit_strings[measurement_system]\n",
    "\n",
    "def __report_sport(sport_col, sport):\n",
    "    fitfile.units.unit_strings[measurement_system]\n",
    "    records = Activities.row_count(garmin_act_db, sport_col, sport)\n",
    "    if records > 0:\n",
    "        sport_title = sport.title().replace('_', ' ')\n",
    "        total_distance = Activities.get_col_sum_for_value(garmin_act_db, Activities.distance, sport_col, sport)\n",
    "        if total_distance is None:\n",
    "            total_distance = 0\n",
    "            average_distance = 0\n",
    "        else:\n",
    "            average_distance = total_distance / records\n",
    "        distance_units = unit_strings[fitfile.units.UnitTypes.distance_long]\n",
    "        print(f\"{sport_title} activities: {records} with total distance {total_distance} {distance_units} and average distance {average_distance} {distance_units}\")\n",
    "\n",
    "\n",
    "print(\"   Activities Statistics   \")\n",
    "print(\"___________________________\")\n",
    "activities = Activities.row_count(garmin_act_db)\n",
    "print(f\"Total activities: {activities}\")\n",
    "laps = ActivityLaps.row_count(garmin_act_db)\n",
    "print(f\"Activities lap records: {laps}\")\n",
    "records = ActivityRecords.row_count(garmin_act_db)\n",
    "print(f\"Activity records: {records}\")\n",
    "years = Activities.get_years(garmin_act_db)\n",
    "print(f\"Years with activities: {len(years)}: {years}\")\n",
    "fitness_activities = Activities.row_count(garmin_act_db, Activities.type, 'fitness')\n",
    "print(f\"Fitness activities: {fitness_activities}\")\n",
    "recreation_activities = Activities.row_count(garmin_act_db, Activities.type, 'recreation')\n",
    "print(f\"Recreation activities: {recreation_activities}\")\n",
    "sports = list_not_none(Activities.get_col_distinct(garmin_act_db, Activities.sport))\n",
    "print(f\"Sports: {', '.join(sports)}\")\n",
    "sub_sports = list_not_none(Activities.get_col_distinct(garmin_act_db, Activities.sub_sport))\n",
    "print(f\"SubSports: {', '.join(sub_sports)}\")\n",
    "print()\n",
    "for sport_name in [sport.name for sport in fitfile.Sport]:\n",
    "    __report_sport(Activities.sport, sport_name)"
   ]
  }
 ],
 "metadata": {
  "interpreter": {
   "hash": "d4f50e87ad7f9cd136d9d3dcf547b8236ee2585f92d0ab7c53dfb80e44e3fae9"
  },
  "kernelspec": {
   "display_name": "Python 3.9.5 64-bit ('.venv')",
   "name": "python3"
  },
  "language_info": {
   "codemirror_mode": {
    "name": "ipython",
    "version": 3
   },
   "file_extension": ".py",
   "mimetype": "text/x-python",
   "name": "python",
   "nbconvert_exporter": "python",
   "pygments_lexer": "ipython3",
   "version": "3.9.9"
  },
  "orig_nbformat": 4
 },
 "nbformat": 4,
 "nbformat_minor": 2
}
