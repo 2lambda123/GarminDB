{
 "cells": [
  {
   "cell_type": "markdown",
   "metadata": {},
   "source": [
    "# Checkup of User Goals and Devices"
   ]
  },
  {
   "cell_type": "code",
   "execution_count": null,
   "metadata": {},
   "outputs": [],
   "source": [
    "from IPython.display import display, Markdown\n",
    "import snakemd\n",
    "\n",
    "import fitfile\n",
    "import garmindb\n",
    "from garmindb import ConfigManager\n",
    "from garmindb.garmindb import GarminDb, Device, DeviceInfo, ActivitiesDb, Activities, ActivityLaps, ActivityRecords, StepsActivities\n",
    "\n",
    "doc = snakemd.new_doc(\"checkup\")\n",
    "\n",
    "db_params_dict = ConfigManager.get_db_params()\n",
    "\n",
    "garmin_db = GarminDb(db_params_dict)\n",
    "\n",
    "checkup = garmindb.Checkup(output_func=doc.add_paragraph)\n",
    "\n",
    "doc.add_header(\"Goals\", 2)\n",
    "checkup.goals()\n",
    "\n",
    "doc.add_header(\"Devices with Low Batteries\", 2)\n",
    "\n",
    "devices = Device.get_all(garmin_db)\n",
    "for device in devices:\n",
    "    battery_level = DeviceInfo.get_col_latest_where(garmin_db, DeviceInfo.battery_status,\n",
    "                                                    [DeviceInfo.serial_number == device.serial_number,\n",
    "                                                        DeviceInfo.battery_status != fitfile.field_enums.BatteryStatus.invalid])\n",
    "    if battery_level is fitfile.field_enums.BatteryStatus.low:\n",
    "        doc.add_paragraph(f\"Device {device.manufacturer} {device.product} ({device.serial_number}) has a low battery\")\n",
    "\n",
    "display(Markdown(str(doc)))"
   ]
  }
 ],
 "metadata": {
  "interpreter": {
   "hash": "d4f50e87ad7f9cd136d9d3dcf547b8236ee2585f92d0ab7c53dfb80e44e3fae9"
  },
  "kernelspec": {
   "display_name": "Python 3.9.5 64-bit ('.venv')",
   "name": "python3"
  },
  "language_info": {
   "codemirror_mode": {
    "name": "ipython",
    "version": 3
   },
   "file_extension": ".py",
   "mimetype": "text/x-python",
   "name": "python",
   "nbconvert_exporter": "python",
   "pygments_lexer": "ipython3",
   "version": "3.9.10"
  },
  "orig_nbformat": 4
 },
 "nbformat": 4,
 "nbformat_minor": 2
}
