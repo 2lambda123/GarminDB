{
 "metadata": {
  "language_info": {
   "codemirror_mode": {
    "name": "ipython",
    "version": 3
   },
   "file_extension": ".py",
   "mimetype": "text/x-python",
   "name": "python",
   "nbconvert_exporter": "python",
   "pygments_lexer": "ipython3",
   "version": "3.9.5"
  },
  "orig_nbformat": 4,
  "kernelspec": {
   "name": "python3",
   "display_name": "Python 3.9.5 64-bit ('.venv')"
  },
  "interpreter": {
   "hash": "d4f50e87ad7f9cd136d9d3dcf547b8236ee2585f92d0ab7c53dfb80e44e3fae9"
  }
 },
 "nbformat": 4,
 "nbformat_minor": 2,
 "cells": [
  {
   "source": [
    "# Checkup of User Goals and Devices"
   ],
   "cell_type": "markdown",
   "metadata": {}
  },
  {
   "cell_type": "code",
   "execution_count": null,
   "metadata": {},
   "outputs": [],
   "source": [
    "import garmindb\n",
    "\n",
    "checkup = garmindb.Checkup(output_func=print)\n",
    "checkup.goals()"
   ]
  },
  {
   "cell_type": "code",
   "execution_count": null,
   "metadata": {},
   "outputs": [],
   "source": [
    "import garmindb\n",
    "\n",
    "checkup = garmindb.Checkup(output_func=print)\n",
    "checkup.battery_status()"
   ]
  },
  {
   "cell_type": "code",
   "execution_count": null,
   "metadata": {},
   "outputs": [],
   "source": [
    "import garmindb\n",
    "\n",
    "gc_config = garmindb.GarminConnectConfigManager()\n",
    "course_ids = gc_config.course_views('steps')\n",
    "\n",
    "checkup = garmindb.Checkup(output_func=print)\n",
    "checkup.activity_course(course_ids[0])"
   ]
  }
 ]
}