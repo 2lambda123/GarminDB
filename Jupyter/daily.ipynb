{
 "cells": [
  {
   "cell_type": "markdown",
   "metadata": {},
   "source": [
    "# Daily Summaries for the Last Seven Days"
   ]
  },
  {
   "cell_type": "code",
   "execution_count": null,
   "metadata": {},
   "outputs": [],
   "source": [
    "import datetime\n",
    "import garmindb\n",
    "\n",
    "graph = garmindb.Graph()\n",
    "\n",
    "graph.graph_date(datetime.date.today() - datetime.timedelta(days = 1))\n",
    "graph.graph_date(datetime.date.today() - datetime.timedelta(days = 2))\n",
    "graph.graph_date(datetime.date.today() - datetime.timedelta(days = 3))\n",
    "graph.graph_date(datetime.date.today() - datetime.timedelta(days = 4))\n",
    "graph.graph_date(datetime.date.today() - datetime.timedelta(days = 5))\n",
    "graph.graph_date(datetime.date.today() - datetime.timedelta(days = 6))\n",
    "graph.graph_date(datetime.date.today() - datetime.timedelta(days = 7))"
   ]
  }
 ],
 "metadata": {
  "interpreter": {
   "hash": "d4f50e87ad7f9cd136d9d3dcf547b8236ee2585f92d0ab7c53dfb80e44e3fae9"
  },
  "kernelspec": {
   "display_name": "Python 3.9.5 64-bit ('.venv')",
   "name": "python3"
  },
  "language_info": {
   "codemirror_mode": {
    "name": "ipython",
    "version": 3
   },
   "file_extension": ".py",
   "mimetype": "text/x-python",
   "name": "python",
   "nbconvert_exporter": "python",
   "pygments_lexer": "ipython3",
   "version": "3.9.10"
  },
  "orig_nbformat": 4
 },
 "nbformat": 4,
 "nbformat_minor": 2
}
